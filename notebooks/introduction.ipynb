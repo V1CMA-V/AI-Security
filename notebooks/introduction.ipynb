{
 "cells": [
  {
   "metadata": {},
   "cell_type": "markdown",
   "source": "N\n",
   "id": "320479c87515d882"
  },
  {
   "metadata": {
    "ExecuteTime": {
     "end_time": "2025-06-11T15:25:08.828488Z",
     "start_time": "2025-06-11T15:25:08.814994Z"
    }
   },
   "cell_type": "code",
   "source": [
    "from traceback import print_tb\n",
    "\n",
    "mensaje =  \"Hola, mundo\"\n",
    "numero = 42\n",
    "PI = 3.14159\n",
    "x = 2.2 # Esto se suma variable flotante\n",
    "y = 2\n",
    "resultado = x * y\n",
    "print(f\"El resultado es  {resultado}\")"
   ],
   "id": "26c5f1c556aa797b",
   "outputs": [
    {
     "name": "stdout",
     "output_type": "stream",
     "text": [
      "El resultado es  4.4\n"
     ]
    }
   ],
   "execution_count": 5
  },
  {
   "metadata": {
    "ExecuteTime": {
     "end_time": "2025-06-11T15:31:07.735497Z",
     "start_time": "2025-06-11T15:31:07.728464Z"
    }
   },
   "cell_type": "code",
   "source": [
    "x = 3.3\n",
    "print(type(x))\n",
    "\n",
    "x = True\n",
    "print(type(x))"
   ],
   "id": "287c0bb581401936",
   "outputs": [
    {
     "name": "stdout",
     "output_type": "stream",
     "text": [
      "<class 'float'>\n",
      "<class 'bool'>\n"
     ]
    }
   ],
   "execution_count": 7
  },
  {
   "metadata": {
    "ExecuteTime": {
     "end_time": "2025-06-11T15:42:08.302917Z",
     "start_time": "2025-06-11T15:42:08.287607Z"
    }
   },
   "cell_type": "code",
   "source": [
    "import pandas as pd\n",
    "from IPython.display import display\n",
    "\n",
    "# Crear un DataFrame de ejemplo\n",
    "data = {\n",
    "    \"Nombre\" : [\"Alice\", \"bob\", \"Charlie\"],\n",
    "    \"Edad\": [25, 39, 28],\n",
    "    \"Ciudad\" : [\"Nueva York\", \"Londres\", \"Paris\"],\n",
    "}\n",
    "\n",
    "df = pd.DataFrame(data)\n",
    "\n",
    "print(\"------------- Usando Print() -------------\")\n",
    "print(df)\n",
    "\n",
    "print(\"\\n--------- Usando display() -------------\")\n",
    "display(df)"
   ],
   "id": "c36337ca2ff19351",
   "outputs": [
    {
     "data": {
      "text/plain": [
       "    Nombre  Edad      Ciudad\n",
       "0    Alice    25  Nueva York\n",
       "1      bob    39     Londres\n",
       "2  Charlie    28       Paris"
      ],
      "text/html": [
       "<div>\n",
       "<style scoped>\n",
       "    .dataframe tbody tr th:only-of-type {\n",
       "        vertical-align: middle;\n",
       "    }\n",
       "\n",
       "    .dataframe tbody tr th {\n",
       "        vertical-align: top;\n",
       "    }\n",
       "\n",
       "    .dataframe thead th {\n",
       "        text-align: right;\n",
       "    }\n",
       "</style>\n",
       "<table border=\"1\" class=\"dataframe\">\n",
       "  <thead>\n",
       "    <tr style=\"text-align: right;\">\n",
       "      <th></th>\n",
       "      <th>Nombre</th>\n",
       "      <th>Edad</th>\n",
       "      <th>Ciudad</th>\n",
       "    </tr>\n",
       "  </thead>\n",
       "  <tbody>\n",
       "    <tr>\n",
       "      <th>0</th>\n",
       "      <td>Alice</td>\n",
       "      <td>25</td>\n",
       "      <td>Nueva York</td>\n",
       "    </tr>\n",
       "    <tr>\n",
       "      <th>1</th>\n",
       "      <td>bob</td>\n",
       "      <td>39</td>\n",
       "      <td>Londres</td>\n",
       "    </tr>\n",
       "    <tr>\n",
       "      <th>2</th>\n",
       "      <td>Charlie</td>\n",
       "      <td>28</td>\n",
       "      <td>Paris</td>\n",
       "    </tr>\n",
       "  </tbody>\n",
       "</table>\n",
       "</div>"
      ]
     },
     "execution_count": 12,
     "metadata": {},
     "output_type": "execute_result"
    }
   ],
   "execution_count": 12
  },
  {
   "metadata": {
    "ExecuteTime": {
     "end_time": "2025-06-11T15:40:41.258161Z",
     "start_time": "2025-06-11T15:40:41.194484Z"
    }
   },
   "cell_type": "code",
   "source": [
    "MENSAJE = \"ELLA DIJO: 'HOLA'\"\n",
    "MENSAJE2 = 'EL RESPOND: \"HASTA LUEGO\"'\n",
    "\n",
    "MENSAJE, MENSAJE2"
   ],
   "id": "d8defcc308899f4d",
   "outputs": [
    {
     "data": {
      "text/plain": [
       "(\"eLLA DIJO: 'HOLA'\", 'eL RESPONDIO: \"HASTA LUEGO\"')"
      ]
     },
     "execution_count": 9,
     "metadata": {},
     "output_type": "execute_result"
    }
   ],
   "execution_count": 9
  },
  {
   "metadata": {
    "ExecuteTime": {
     "end_time": "2025-06-11T15:44:39.045567Z",
     "start_time": "2025-06-11T15:44:39.036140Z"
    }
   },
   "cell_type": "code",
   "source": "print(\"Linea 1 \\nLinea 2 \\nLinea 3 \\nLinea 4 \\t- ¡Con tabulador\")",
   "id": "d75436b4260b9298",
   "outputs": [
    {
     "name": "stdout",
     "output_type": "stream",
     "text": [
      "Linea 1 \n",
      "Linea 2 \n",
      "Linea 3 \n",
      "Linea 4 \t- ¡Con tabulador\n"
     ]
    }
   ],
   "execution_count": 15
  },
  {
   "metadata": {
    "ExecuteTime": {
     "end_time": "2025-06-11T15:49:43.056282Z",
     "start_time": "2025-06-11T15:49:43.046243Z"
    }
   },
   "cell_type": "code",
   "source": [
    "x = 5; y = 2\n",
    "print(f\"Suma {x + y }, Division Entera {x // y}, Potencia {x ** y}\")"
   ],
   "id": "c502c7663090b252",
   "outputs": [
    {
     "name": "stdout",
     "output_type": "stream",
     "text": [
      "Suma 7, Division Entera 2, Potencia 25\n"
     ]
    }
   ],
   "execution_count": 19
  },
  {
   "metadata": {
    "ExecuteTime": {
     "end_time": "2025-06-11T15:50:39.462955Z",
     "start_time": "2025-06-11T15:50:39.444302Z"
    }
   },
   "cell_type": "code",
   "source": [
    "x = 5; y = 2\n",
    "print((x > y) and ( y != 0)) #Salida: True"
   ],
   "id": "a64032aa52cdeca0",
   "outputs": [
    {
     "name": "stdout",
     "output_type": "stream",
     "text": [
      "True\n"
     ]
    }
   ],
   "execution_count": 20
  },
  {
   "metadata": {
    "ExecuteTime": {
     "end_time": "2025-06-11T15:53:55.400828Z",
     "start_time": "2025-06-11T15:53:55.389756Z"
    }
   },
   "cell_type": "code",
   "source": [
    "# Operadores de pertenencia\n",
    "print(\"Py\" in \"Python\") # Salida: True\n",
    "\n",
    "print( 10 in [1, 2, 3, 10]) # Salida: True"
   ],
   "id": "52f6c2ee74ea4183",
   "outputs": [
    {
     "name": "stdout",
     "output_type": "stream",
     "text": [
      "True\n",
      "True\n"
     ]
    }
   ],
   "execution_count": 23
  },
  {
   "metadata": {
    "ExecuteTime": {
     "end_time": "2025-06-11T15:58:22.510563Z",
     "start_time": "2025-06-11T15:58:22.488425Z"
    }
   },
   "cell_type": "code",
   "source": [
    "print(\"Java\" not in \"Python\")\n",
    "\n",
    "print(5 not in [1, 2, 3, 10])"
   ],
   "id": "11ef3fa3633c4f3e",
   "outputs": [
    {
     "name": "stdout",
     "output_type": "stream",
     "text": [
      "True\n",
      "True\n"
     ]
    }
   ],
   "execution_count": 27
  },
  {
   "metadata": {
    "ExecuteTime": {
     "end_time": "2025-06-11T16:00:09.319859Z",
     "start_time": "2025-06-11T16:00:09.311699Z"
    }
   },
   "cell_type": "code",
   "source": [
    "mi_lista = [1, \"Hola\", 3.14, True]\n",
    "print(f\"{mi_lista[0]} primer elemento\\n Ultimo elemento: {mi_lista[-1]}\")"
   ],
   "id": "bdcb11699df4656e",
   "outputs": [
    {
     "name": "stdout",
     "output_type": "stream",
     "text": [
      "1 primer elemento\n",
      " Ultimo elemento: True\n"
     ]
    }
   ],
   "execution_count": 29
  },
  {
   "metadata": {
    "ExecuteTime": {
     "end_time": "2025-06-11T16:02:43.456308Z",
     "start_time": "2025-06-11T16:02:43.444110Z"
    }
   },
   "cell_type": "code",
   "source": [
    "lista_anidada = [1, [2, 3], 4]\n",
    "\n",
    "print(lista_anidada[1][0])"
   ],
   "id": "f40179404fe99810",
   "outputs": [
    {
     "name": "stdout",
     "output_type": "stream",
     "text": [
      "2\n"
     ]
    }
   ],
   "execution_count": 32
  },
  {
   "metadata": {
    "ExecuteTime": {
     "end_time": "2025-06-11T16:05:32.296148Z",
     "start_time": "2025-06-11T16:05:32.288507Z"
    }
   },
   "cell_type": "code",
   "source": "print(f\"{lista_anidada}\\n{lista_anidada[0]}\\n{lista_anidada[1]}\\n{lista_anidada[2]}\\n{lista_anidada[1][0]}\")",
   "id": "3c159153b2778b9d",
   "outputs": [
    {
     "name": "stdout",
     "output_type": "stream",
     "text": [
      "[1, [2, 3], 4]\n",
      "1\n",
      "[2, 3]\n",
      "4\n",
      "2\n"
     ]
    }
   ],
   "execution_count": 35
  },
  {
   "metadata": {
    "ExecuteTime": {
     "end_time": "2025-06-11T16:09:05.584150Z",
     "start_time": "2025-06-11T16:09:05.566310Z"
    }
   },
   "cell_type": "code",
   "source": "print(len(lista_anidada))",
   "id": "813ab34f82b541ea",
   "outputs": [
    {
     "name": "stdout",
     "output_type": "stream",
     "text": [
      "3\n"
     ]
    }
   ],
   "execution_count": 37
  },
  {
   "metadata": {
    "ExecuteTime": {
     "end_time": "2025-06-11T16:15:52.142113Z",
     "start_time": "2025-06-11T16:15:52.123473Z"
    }
   },
   "cell_type": "code",
   "source": [
    "numeros = [0, 1, 2, 3, 4, 5]\n",
    "\n",
    "print(numeros[1:4])\n",
    "print(numeros[::2])\n",
    "print(numeros[::-1])\n",
    "print(numeros[-3:-1])\n",
    "print(numeros[:-1])"
   ],
   "id": "a799def177434dae",
   "outputs": [
    {
     "name": "stdout",
     "output_type": "stream",
     "text": [
      "[1, 2, 3]\n",
      "[0, 2, 4]\n",
      "[5, 4, 3, 2, 1, 0]\n",
      "[3, 4]\n",
      "[0, 1, 2, 3, 4]\n"
     ]
    }
   ],
   "execution_count": 45
  },
  {
   "metadata": {
    "ExecuteTime": {
     "end_time": "2025-06-11T16:17:10.027335Z",
     "start_time": "2025-06-11T16:17:09.999756Z"
    }
   },
   "cell_type": "code",
   "source": [
    "mi_lista = [10, 1, 5]\n",
    "mi_lista.append(20)\n",
    "mi_lista.sort()\n",
    "elemento = mi_lista.pop()\n",
    "elemento, mi_lista"
   ],
   "id": "7bdcc5d93b2713b8",
   "outputs": [
    {
     "data": {
      "text/plain": [
       "(20, [1, 5, 10])"
      ]
     },
     "execution_count": 48,
     "metadata": {},
     "output_type": "execute_result"
    }
   ],
   "execution_count": 48
  },
  {
   "metadata": {
    "ExecuteTime": {
     "end_time": "2025-06-11T16:22:31.757227Z",
     "start_time": "2025-06-11T16:22:31.749098Z"
    }
   },
   "cell_type": "code",
   "source": [
    "list_a = [1, 2]\n",
    "list_b = list_a\n",
    "\n",
    "list_b.append(3)\n",
    "print(list_a)"
   ],
   "id": "ebc72753e3ee3b5f",
   "outputs": [
    {
     "name": "stdout",
     "output_type": "stream",
     "text": [
      "[1, 2, 3]\n"
     ]
    }
   ],
   "execution_count": 50
  },
  {
   "metadata": {
    "ExecuteTime": {
     "end_time": "2025-06-11T16:35:03.562155Z",
     "start_time": "2025-06-11T16:35:03.547696Z"
    }
   },
   "cell_type": "code",
   "source": [
    "list_originial = [1, 2, [3, 4]]\n",
    "list_copia = list_originial.copy()\n",
    "list_copia.append(5)\n",
    "list_copia[2].append(65)\n",
    "\n",
    "list_originial[1] = 9\n",
    "print(list_copia)\n",
    "print(list_originial)\n"
   ],
   "id": "1e21121d73768838",
   "outputs": [
    {
     "name": "stdout",
     "output_type": "stream",
     "text": [
      "[1, 2, [3, 4, 65], 5]\n",
      "[1, 9, [3, 4, 65]]\n"
     ]
    }
   ],
   "execution_count": 63
  },
  {
   "metadata": {
    "ExecuteTime": {
     "end_time": "2025-06-11T16:34:13.109363Z",
     "start_time": "2025-06-11T16:34:13.080671Z"
    }
   },
   "cell_type": "code",
   "source": [
    "import copy\n",
    "lista_original = [1, [2, 3]]\n",
    "copia_p = copy.deepcopy(lista_original)\n",
    "copia_p[0] = 99 # Modifica el 1er elemento\n",
    "copia_p[1].append(4) # Modifica la lista anidada\n",
    "print(lista_original) # Salida: [1, [2, 3]] <-- ¡No cambió!\n",
    "print(copia_p) # Salida: [99, [2, 3, 4]]"
   ],
   "id": "546e6d59a35e5ff5",
   "outputs": [
    {
     "name": "stdout",
     "output_type": "stream",
     "text": [
      "[1, [2, 3]]\n",
      "[99, [2, 3, 4]]\n"
     ]
    }
   ],
   "execution_count": 60
  },
  {
   "metadata": {
    "ExecuteTime": {
     "end_time": "2025-06-11T16:45:29.450227Z",
     "start_time": "2025-06-11T16:45:29.406324Z"
    }
   },
   "cell_type": "code",
   "source": [
    "mi_tupla = (1, \"hola\", 3.14)\n",
    "print(mi_tupla[0])"
   ],
   "id": "59e179e84c1b300",
   "outputs": [
    {
     "name": "stdout",
     "output_type": "stream",
     "text": [
      "1\n"
     ]
    }
   ],
   "execution_count": 64
  }
 ],
 "metadata": {
  "kernelspec": {
   "display_name": "Python 3",
   "language": "python",
   "name": "python3"
  },
  "language_info": {
   "codemirror_mode": {
    "name": "ipython",
    "version": 2
   },
   "file_extension": ".py",
   "mimetype": "text/x-python",
   "name": "python",
   "nbconvert_exporter": "python",
   "pygments_lexer": "ipython2",
   "version": "2.7.6"
  }
 },
 "nbformat": 4,
 "nbformat_minor": 5
}
