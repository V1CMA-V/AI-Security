{
 "cells": [
  {
   "cell_type": "markdown",
   "id": "9aa078a820f835ca",
   "metadata": {},
   "source": [
    "# Aprendizaje supervisado: Problemas de clasificación\n",
    "\n",
    "## Importar librerias"
   ]
  },
  {
   "cell_type": "code",
   "execution_count": 53,
   "id": "a35e5f2a30b246d8",
   "metadata": {
    "ExecuteTime": {
     "end_time": "2025-06-17T16:33:50.315557Z",
     "start_time": "2025-06-17T16:33:50.298091Z"
    }
   },
   "outputs": [],
   "source": [
    "import pandas as pd\n",
    "from sklearn.linear_model import LogisticRegression\n",
    "# Importar bibliotecas de gráficos\n",
    "import matplotlib.pyplot as plt\n",
    "# Importar Seaborn para gráficos estadísticos\n",
    "import seaborn as sns\n",
    "# Dividir los marcos de datos X e Y en un conjunto de entrenamiento y u conjunto de prueba.\n",
    "\n",
    "# Para ello, utilizaremos la función de división de datos del paquete Sklearn, que se basa en una función aleatoria.\n",
    "from sklearn.model_selection import train_test_split\n",
    "\n",
    "import numpy as np\n",
    "import os, sys\n",
    "from scipy import stats\n",
    "\n",
    "# Calcular medidas de precisión y matriz de confusión\n",
    "from sklearn import metrics\n",
    "import seaborn as sn\n",
    "\n",
    "%matplotlib inline\n"
   ]
  },
  {
   "cell_type": "markdown",
   "id": "4e9561ea3f2c2590",
   "metadata": {},
   "source": [
    "### Paso 2\n",
    "\n",
    "Cargar el conjunto de datos con el comando read_csv. El resultado se muestra a continuación."
   ]
  },
  {
   "cell_type": "code",
   "execution_count": 54,
   "id": "8d3ef7b2085a928e",
   "metadata": {
    "ExecuteTime": {
     "end_time": "2025-06-17T16:33:50.435224Z",
     "start_time": "2025-06-17T16:33:50.361985Z"
    }
   },
   "outputs": [
    {
     "data": {
      "text/html": [
       "<div>\n",
       "<style scoped>\n",
       "    .dataframe tbody tr th:only-of-type {\n",
       "        vertical-align: middle;\n",
       "    }\n",
       "\n",
       "    .dataframe tbody tr th {\n",
       "        vertical-align: top;\n",
       "    }\n",
       "\n",
       "    .dataframe thead th {\n",
       "        text-align: right;\n",
       "    }\n",
       "</style>\n",
       "<table border=\"1\" class=\"dataframe\">\n",
       "  <thead>\n",
       "    <tr style=\"text-align: right;\">\n",
       "      <th></th>\n",
       "      <th>Loan_ID</th>\n",
       "      <th>Gender</th>\n",
       "      <th>Married</th>\n",
       "      <th>Dependents</th>\n",
       "      <th>Education</th>\n",
       "      <th>Self_Employed</th>\n",
       "      <th>ApplicantIncome</th>\n",
       "      <th>CoapplicantIncome</th>\n",
       "      <th>LoanAmount</th>\n",
       "      <th>Loan_Amount_Term</th>\n",
       "      <th>Credit_History</th>\n",
       "      <th>Property_Area</th>\n",
       "      <th>Loan_Status</th>\n",
       "    </tr>\n",
       "  </thead>\n",
       "  <tbody>\n",
       "    <tr>\n",
       "      <th>0</th>\n",
       "      <td>LP001002</td>\n",
       "      <td>Male</td>\n",
       "      <td>No</td>\n",
       "      <td>0</td>\n",
       "      <td>Graduate</td>\n",
       "      <td>No</td>\n",
       "      <td>5849</td>\n",
       "      <td>0.0</td>\n",
       "      <td>0</td>\n",
       "      <td>360.0</td>\n",
       "      <td>1.0</td>\n",
       "      <td>Urban</td>\n",
       "      <td>1</td>\n",
       "    </tr>\n",
       "    <tr>\n",
       "      <th>1</th>\n",
       "      <td>LP001003</td>\n",
       "      <td>Male</td>\n",
       "      <td>Yes</td>\n",
       "      <td>1</td>\n",
       "      <td>Graduate</td>\n",
       "      <td>No</td>\n",
       "      <td>4583</td>\n",
       "      <td>1508.0</td>\n",
       "      <td>128</td>\n",
       "      <td>360.0</td>\n",
       "      <td>1.0</td>\n",
       "      <td>Rural</td>\n",
       "      <td>0</td>\n",
       "    </tr>\n",
       "    <tr>\n",
       "      <th>2</th>\n",
       "      <td>LP001005</td>\n",
       "      <td>Male</td>\n",
       "      <td>Yes</td>\n",
       "      <td>0</td>\n",
       "      <td>Graduate</td>\n",
       "      <td>Yes</td>\n",
       "      <td>3000</td>\n",
       "      <td>0.0</td>\n",
       "      <td>66</td>\n",
       "      <td>360.0</td>\n",
       "      <td>1.0</td>\n",
       "      <td>Urban</td>\n",
       "      <td>1</td>\n",
       "    </tr>\n",
       "    <tr>\n",
       "      <th>3</th>\n",
       "      <td>LP001006</td>\n",
       "      <td>Male</td>\n",
       "      <td>Yes</td>\n",
       "      <td>0</td>\n",
       "      <td>Not Graduate</td>\n",
       "      <td>No</td>\n",
       "      <td>2583</td>\n",
       "      <td>2358.0</td>\n",
       "      <td>120</td>\n",
       "      <td>360.0</td>\n",
       "      <td>1.0</td>\n",
       "      <td>Urban</td>\n",
       "      <td>1</td>\n",
       "    </tr>\n",
       "    <tr>\n",
       "      <th>4</th>\n",
       "      <td>LP001008</td>\n",
       "      <td>Male</td>\n",
       "      <td>No</td>\n",
       "      <td>0</td>\n",
       "      <td>Graduate</td>\n",
       "      <td>No</td>\n",
       "      <td>6000</td>\n",
       "      <td>0.0</td>\n",
       "      <td>141</td>\n",
       "      <td>360.0</td>\n",
       "      <td>1.0</td>\n",
       "      <td>Urban</td>\n",
       "      <td>1</td>\n",
       "    </tr>\n",
       "  </tbody>\n",
       "</table>\n",
       "</div>"
      ],
      "text/plain": [
       "    Loan_ID Gender Married Dependents     Education Self_Employed  \\\n",
       "0  LP001002   Male      No          0      Graduate            No   \n",
       "1  LP001003   Male     Yes          1      Graduate            No   \n",
       "2  LP001005   Male     Yes          0      Graduate           Yes   \n",
       "3  LP001006   Male     Yes          0  Not Graduate            No   \n",
       "4  LP001008   Male      No          0      Graduate            No   \n",
       "\n",
       "   ApplicantIncome  CoapplicantIncome  LoanAmount  Loan_Amount_Term  \\\n",
       "0             5849                0.0           0             360.0   \n",
       "1             4583             1508.0         128             360.0   \n",
       "2             3000                0.0          66             360.0   \n",
       "3             2583             2358.0         120             360.0   \n",
       "4             6000                0.0         141             360.0   \n",
       "\n",
       "   Credit_History Property_Area  Loan_Status  \n",
       "0             1.0         Urban            1  \n",
       "1             1.0         Rural            0  \n",
       "2             1.0         Urban            1  \n",
       "3             1.0         Urban            1  \n",
       "4             1.0         Urban            1  "
      ]
     },
     "execution_count": 54,
     "metadata": {},
     "output_type": "execute_result"
    }
   ],
   "source": [
    "loan_df = pd.read_csv(\"data/CreditRisk.csv\")\n",
    "loan_df.head()"
   ]
  },
  {
   "cell_type": "markdown",
   "id": "be4477a1fe5bc1d5",
   "metadata": {},
   "source": [
    "### Paso 3\n",
    "\n",
    "Examinar la forma de los datos"
   ]
  },
  {
   "cell_type": "code",
   "execution_count": 55,
   "id": "b1eabba30a492871",
   "metadata": {
    "ExecuteTime": {
     "end_time": "2025-06-17T16:33:50.664290Z",
     "start_time": "2025-06-17T16:33:50.643160Z"
    }
   },
   "outputs": [
    {
     "data": {
      "text/plain": [
       "(614, 13)"
      ]
     },
     "execution_count": 55,
     "metadata": {},
     "output_type": "execute_result"
    }
   ],
   "source": [
    "loan_df.shape"
   ]
  },
  {
   "cell_type": "markdown",
   "id": "338574f1d1a3e34f",
   "metadata": {},
   "source": [
    "### Paso 4\n",
    "\n",
    "credit_df = loan_df.drop('Loan_ID', axis =1 ) # Se omite esta columna, ya que de todas formas se mapeará 1-1:"
   ]
  },
  {
   "cell_type": "code",
   "execution_count": 56,
   "id": "e0359c06a25585c5",
   "metadata": {
    "ExecuteTime": {
     "end_time": "2025-06-17T16:33:50.942538Z",
     "start_time": "2025-06-17T16:33:50.904800Z"
    }
   },
   "outputs": [
    {
     "data": {
      "text/html": [
       "<div>\n",
       "<style scoped>\n",
       "    .dataframe tbody tr th:only-of-type {\n",
       "        vertical-align: middle;\n",
       "    }\n",
       "\n",
       "    .dataframe tbody tr th {\n",
       "        vertical-align: top;\n",
       "    }\n",
       "\n",
       "    .dataframe thead th {\n",
       "        text-align: right;\n",
       "    }\n",
       "</style>\n",
       "<table border=\"1\" class=\"dataframe\">\n",
       "  <thead>\n",
       "    <tr style=\"text-align: right;\">\n",
       "      <th></th>\n",
       "      <th>Gender</th>\n",
       "      <th>Married</th>\n",
       "      <th>Dependents</th>\n",
       "      <th>Education</th>\n",
       "      <th>Self_Employed</th>\n",
       "      <th>ApplicantIncome</th>\n",
       "      <th>CoapplicantIncome</th>\n",
       "      <th>LoanAmount</th>\n",
       "      <th>Loan_Amount_Term</th>\n",
       "      <th>Credit_History</th>\n",
       "      <th>Property_Area</th>\n",
       "      <th>Loan_Status</th>\n",
       "    </tr>\n",
       "  </thead>\n",
       "  <tbody>\n",
       "    <tr>\n",
       "      <th>0</th>\n",
       "      <td>Male</td>\n",
       "      <td>No</td>\n",
       "      <td>0</td>\n",
       "      <td>Graduate</td>\n",
       "      <td>No</td>\n",
       "      <td>5849</td>\n",
       "      <td>0.0</td>\n",
       "      <td>0</td>\n",
       "      <td>360.0</td>\n",
       "      <td>1.0</td>\n",
       "      <td>Urban</td>\n",
       "      <td>1</td>\n",
       "    </tr>\n",
       "    <tr>\n",
       "      <th>1</th>\n",
       "      <td>Male</td>\n",
       "      <td>Yes</td>\n",
       "      <td>1</td>\n",
       "      <td>Graduate</td>\n",
       "      <td>No</td>\n",
       "      <td>4583</td>\n",
       "      <td>1508.0</td>\n",
       "      <td>128</td>\n",
       "      <td>360.0</td>\n",
       "      <td>1.0</td>\n",
       "      <td>Rural</td>\n",
       "      <td>0</td>\n",
       "    </tr>\n",
       "    <tr>\n",
       "      <th>2</th>\n",
       "      <td>Male</td>\n",
       "      <td>Yes</td>\n",
       "      <td>0</td>\n",
       "      <td>Graduate</td>\n",
       "      <td>Yes</td>\n",
       "      <td>3000</td>\n",
       "      <td>0.0</td>\n",
       "      <td>66</td>\n",
       "      <td>360.0</td>\n",
       "      <td>1.0</td>\n",
       "      <td>Urban</td>\n",
       "      <td>1</td>\n",
       "    </tr>\n",
       "    <tr>\n",
       "      <th>3</th>\n",
       "      <td>Male</td>\n",
       "      <td>Yes</td>\n",
       "      <td>0</td>\n",
       "      <td>Not Graduate</td>\n",
       "      <td>No</td>\n",
       "      <td>2583</td>\n",
       "      <td>2358.0</td>\n",
       "      <td>120</td>\n",
       "      <td>360.0</td>\n",
       "      <td>1.0</td>\n",
       "      <td>Urban</td>\n",
       "      <td>1</td>\n",
       "    </tr>\n",
       "    <tr>\n",
       "      <th>4</th>\n",
       "      <td>Male</td>\n",
       "      <td>No</td>\n",
       "      <td>0</td>\n",
       "      <td>Graduate</td>\n",
       "      <td>No</td>\n",
       "      <td>6000</td>\n",
       "      <td>0.0</td>\n",
       "      <td>141</td>\n",
       "      <td>360.0</td>\n",
       "      <td>1.0</td>\n",
       "      <td>Urban</td>\n",
       "      <td>1</td>\n",
       "    </tr>\n",
       "  </tbody>\n",
       "</table>\n",
       "</div>"
      ],
      "text/plain": [
       "  Gender Married Dependents     Education Self_Employed  ApplicantIncome  \\\n",
       "0   Male      No          0      Graduate            No             5849   \n",
       "1   Male     Yes          1      Graduate            No             4583   \n",
       "2   Male     Yes          0      Graduate           Yes             3000   \n",
       "3   Male     Yes          0  Not Graduate            No             2583   \n",
       "4   Male      No          0      Graduate            No             6000   \n",
       "\n",
       "   CoapplicantIncome  LoanAmount  Loan_Amount_Term  Credit_History  \\\n",
       "0                0.0           0             360.0             1.0   \n",
       "1             1508.0         128             360.0             1.0   \n",
       "2                0.0          66             360.0             1.0   \n",
       "3             2358.0         120             360.0             1.0   \n",
       "4                0.0         141             360.0             1.0   \n",
       "\n",
       "  Property_Area  Loan_Status  \n",
       "0         Urban            1  \n",
       "1         Rural            0  \n",
       "2         Urban            1  \n",
       "3         Urban            1  \n",
       "4         Urban            1  "
      ]
     },
     "execution_count": 56,
     "metadata": {},
     "output_type": "execute_result"
    }
   ],
   "source": [
    "credit_df = loan_df.drop(\"Loan_ID\", axis=1)\n",
    "\n",
    "credit_df.head()"
   ]
  },
  {
   "cell_type": "markdown",
   "id": "3895c3b2d70150f5",
   "metadata": {},
   "source": [
    "### Paso 5\n",
    "\n",
    "A continuación, normaliza los valores del Valor del Préstamo (Loan Value) y visualízalos también."
   ]
  },
  {
   "cell_type": "code",
   "execution_count": 57,
   "id": "ae8a4b942f791b2d",
   "metadata": {
    "ExecuteTime": {
     "end_time": "2025-06-17T16:33:51.881931Z",
     "start_time": "2025-06-17T16:33:51.393952Z"
    }
   },
   "outputs": [
    {
     "data": {
      "image/png": "[encoded data removed]",
      "text/plain": [
       "<Figure size 640x480 with 1 Axes>"
      ]
     },
     "metadata": {},
     "output_type": "display_data"
    }
   ],
   "source": [
    "credit_df.Loan_Amount_Term.value_counts(normalize=True)\n",
    "\n",
    "plt.hist(credit_df.Loan_Amount_Term, 50)\n",
    "\n",
    "plt.show()"
   ]
  },
  {
   "cell_type": "markdown",
   "id": "9b22f15b2c6b33d8",
   "metadata": {},
   "source": [
    "### Paso 6\n",
    "\n",
    "Visualiza los datos como un gráfico de líneas."
   ]
  },
  {
   "cell_type": "code",
   "execution_count": 58,
   "id": "1766cffb3bcf5b8",
   "metadata": {
    "ExecuteTime": {
     "end_time": "2025-06-17T16:33:52.547294Z",
     "start_time": "2025-06-17T16:33:52.183617Z"
    }
   },
   "outputs": [
    {
     "data": {
      "image/png": "[encoded data removed]",
      "text/plain": [
       "<Figure size 640x480 with 1 Axes>"
      ]
     },
     "metadata": {},
     "output_type": "display_data"
    }
   ],
   "source": [
    "plt.plot(credit_df.LoanAmount)\n",
    "plt.xlabel('Loan Amount')\n",
    "plt.ylabel(\"Frequency\")\n",
    "plt.title(\"Plot of the Loan Amount\")\n",
    "\n",
    "plt.show()"
   ]
  },
  {
   "cell_type": "markdown",
   "id": "f14c3ddbd1860a1e",
   "metadata": {},
   "source": [
    "**Consejo:** Solo hemos mostrado una visualización. Se recomienda generar más gráficos y diagramas. Recuerda que los diagramas son una excelente manera de representar datos intuitivamente."
   ]
  },
  {
   "cell_type": "markdown",
   "id": "f51f830c50ba5ce7",
   "metadata": {},
   "source": [
    "### Paso 7\n",
    "\n",
    "El importe del préstamo está muy sesgado, por lo que eliminamos esta variable"
   ]
  },
  {
   "cell_type": "code",
   "execution_count": 59,
   "id": "e98cb639c43a1a5d",
   "metadata": {
    "ExecuteTime": {
     "end_time": "2025-06-17T16:33:52.628054Z",
     "start_time": "2025-06-17T16:33:52.617532Z"
    }
   },
   "outputs": [],
   "source": [
    "credit_df.drop([\"Loan_Amount_Term\"], axis=1, inplace=True)"
   ]
  },
  {
   "cell_type": "markdown",
   "id": "f7e814c471a742c5",
   "metadata": {},
   "source": [
    "### Paso 8\n",
    "\n",
    "A continuación, se realiza el tratamiento de valores faltantes y el valor faltante de cada variable se reemplaza por 0. Compare los resultados después de reemplazar los valores faltantes con la mediana."
   ]
  },
  {
   "cell_type": "code",
   "execution_count": 60,
   "id": "2a7eac9ee7a68e9",
   "metadata": {
    "ExecuteTime": {
     "end_time": "2025-06-17T16:33:52.728130Z",
     "start_time": "2025-06-17T16:33:52.688411Z"
    }
   },
   "outputs": [
    {
     "data": {
      "text/html": [
       "<div>\n",
       "<style scoped>\n",
       "    .dataframe tbody tr th:only-of-type {\n",
       "        vertical-align: middle;\n",
       "    }\n",
       "\n",
       "    .dataframe tbody tr th {\n",
       "        vertical-align: top;\n",
       "    }\n",
       "\n",
       "    .dataframe thead th {\n",
       "        text-align: right;\n",
       "    }\n",
       "</style>\n",
       "<table border=\"1\" class=\"dataframe\">\n",
       "  <thead>\n",
       "    <tr style=\"text-align: right;\">\n",
       "      <th></th>\n",
       "      <th>Gender</th>\n",
       "      <th>Married</th>\n",
       "      <th>Dependents</th>\n",
       "      <th>Education</th>\n",
       "      <th>Self_Employed</th>\n",
       "      <th>ApplicantIncome</th>\n",
       "      <th>CoapplicantIncome</th>\n",
       "      <th>LoanAmount</th>\n",
       "      <th>Credit_History</th>\n",
       "      <th>Property_Area</th>\n",
       "      <th>Loan_Status</th>\n",
       "    </tr>\n",
       "  </thead>\n",
       "  <tbody>\n",
       "    <tr>\n",
       "      <th>0</th>\n",
       "      <td>Male</td>\n",
       "      <td>No</td>\n",
       "      <td>0</td>\n",
       "      <td>Graduate</td>\n",
       "      <td>No</td>\n",
       "      <td>5849</td>\n",
       "      <td>0.0</td>\n",
       "      <td>0</td>\n",
       "      <td>1.0</td>\n",
       "      <td>Urban</td>\n",
       "      <td>1</td>\n",
       "    </tr>\n",
       "    <tr>\n",
       "      <th>1</th>\n",
       "      <td>Male</td>\n",
       "      <td>Yes</td>\n",
       "      <td>1</td>\n",
       "      <td>Graduate</td>\n",
       "      <td>No</td>\n",
       "      <td>4583</td>\n",
       "      <td>1508.0</td>\n",
       "      <td>128</td>\n",
       "      <td>1.0</td>\n",
       "      <td>Rural</td>\n",
       "      <td>0</td>\n",
       "    </tr>\n",
       "    <tr>\n",
       "      <th>2</th>\n",
       "      <td>Male</td>\n",
       "      <td>Yes</td>\n",
       "      <td>0</td>\n",
       "      <td>Graduate</td>\n",
       "      <td>Yes</td>\n",
       "      <td>3000</td>\n",
       "      <td>0.0</td>\n",
       "      <td>66</td>\n",
       "      <td>1.0</td>\n",
       "      <td>Urban</td>\n",
       "      <td>1</td>\n",
       "    </tr>\n",
       "    <tr>\n",
       "      <th>3</th>\n",
       "      <td>Male</td>\n",
       "      <td>Yes</td>\n",
       "      <td>0</td>\n",
       "      <td>Not Graduate</td>\n",
       "      <td>No</td>\n",
       "      <td>2583</td>\n",
       "      <td>2358.0</td>\n",
       "      <td>120</td>\n",
       "      <td>1.0</td>\n",
       "      <td>Urban</td>\n",
       "      <td>1</td>\n",
       "    </tr>\n",
       "    <tr>\n",
       "      <th>4</th>\n",
       "      <td>Male</td>\n",
       "      <td>No</td>\n",
       "      <td>0</td>\n",
       "      <td>Graduate</td>\n",
       "      <td>No</td>\n",
       "      <td>6000</td>\n",
       "      <td>0.0</td>\n",
       "      <td>141</td>\n",
       "      <td>1.0</td>\n",
       "      <td>Urban</td>\n",
       "      <td>1</td>\n",
       "    </tr>\n",
       "    <tr>\n",
       "      <th>...</th>\n",
       "      <td>...</td>\n",
       "      <td>...</td>\n",
       "      <td>...</td>\n",
       "      <td>...</td>\n",
       "      <td>...</td>\n",
       "      <td>...</td>\n",
       "      <td>...</td>\n",
       "      <td>...</td>\n",
       "      <td>...</td>\n",
       "      <td>...</td>\n",
       "      <td>...</td>\n",
       "    </tr>\n",
       "    <tr>\n",
       "      <th>609</th>\n",
       "      <td>Female</td>\n",
       "      <td>No</td>\n",
       "      <td>0</td>\n",
       "      <td>Graduate</td>\n",
       "      <td>No</td>\n",
       "      <td>2900</td>\n",
       "      <td>0.0</td>\n",
       "      <td>71</td>\n",
       "      <td>1.0</td>\n",
       "      <td>Rural</td>\n",
       "      <td>1</td>\n",
       "    </tr>\n",
       "    <tr>\n",
       "      <th>610</th>\n",
       "      <td>Male</td>\n",
       "      <td>Yes</td>\n",
       "      <td>3+</td>\n",
       "      <td>Graduate</td>\n",
       "      <td>No</td>\n",
       "      <td>4106</td>\n",
       "      <td>0.0</td>\n",
       "      <td>40</td>\n",
       "      <td>1.0</td>\n",
       "      <td>Rural</td>\n",
       "      <td>1</td>\n",
       "    </tr>\n",
       "    <tr>\n",
       "      <th>611</th>\n",
       "      <td>Male</td>\n",
       "      <td>Yes</td>\n",
       "      <td>1</td>\n",
       "      <td>Graduate</td>\n",
       "      <td>No</td>\n",
       "      <td>8072</td>\n",
       "      <td>240.0</td>\n",
       "      <td>253</td>\n",
       "      <td>1.0</td>\n",
       "      <td>Urban</td>\n",
       "      <td>1</td>\n",
       "    </tr>\n",
       "    <tr>\n",
       "      <th>612</th>\n",
       "      <td>Male</td>\n",
       "      <td>Yes</td>\n",
       "      <td>2</td>\n",
       "      <td>Graduate</td>\n",
       "      <td>No</td>\n",
       "      <td>7583</td>\n",
       "      <td>0.0</td>\n",
       "      <td>187</td>\n",
       "      <td>1.0</td>\n",
       "      <td>Urban</td>\n",
       "      <td>1</td>\n",
       "    </tr>\n",
       "    <tr>\n",
       "      <th>613</th>\n",
       "      <td>Female</td>\n",
       "      <td>No</td>\n",
       "      <td>0</td>\n",
       "      <td>Graduate</td>\n",
       "      <td>Yes</td>\n",
       "      <td>4583</td>\n",
       "      <td>0.0</td>\n",
       "      <td>133</td>\n",
       "      <td>0.0</td>\n",
       "      <td>Semiurban</td>\n",
       "      <td>0</td>\n",
       "    </tr>\n",
       "  </tbody>\n",
       "</table>\n",
       "<p>614 rows × 11 columns</p>\n",
       "</div>"
      ],
      "text/plain": [
       "     Gender Married Dependents     Education Self_Employed  ApplicantIncome  \\\n",
       "0      Male      No          0      Graduate            No             5849   \n",
       "1      Male     Yes          1      Graduate            No             4583   \n",
       "2      Male     Yes          0      Graduate           Yes             3000   \n",
       "3      Male     Yes          0  Not Graduate            No             2583   \n",
       "4      Male      No          0      Graduate            No             6000   \n",
       "..      ...     ...        ...           ...           ...              ...   \n",
       "609  Female      No          0      Graduate            No             2900   \n",
       "610    Male     Yes         3+      Graduate            No             4106   \n",
       "611    Male     Yes          1      Graduate            No             8072   \n",
       "612    Male     Yes          2      Graduate            No             7583   \n",
       "613  Female      No          0      Graduate           Yes             4583   \n",
       "\n",
       "     CoapplicantIncome  LoanAmount Credit_History Property_Area  Loan_Status  \n",
       "0                  0.0           0            1.0         Urban            1  \n",
       "1               1508.0         128            1.0         Rural            0  \n",
       "2                  0.0          66            1.0         Urban            1  \n",
       "3               2358.0         120            1.0         Urban            1  \n",
       "4                  0.0         141            1.0         Urban            1  \n",
       "..                 ...         ...            ...           ...          ...  \n",
       "609                0.0          71            1.0         Rural            1  \n",
       "610                0.0          40            1.0         Rural            1  \n",
       "611              240.0         253            1.0         Urban            1  \n",
       "612                0.0         187            1.0         Urban            1  \n",
       "613                0.0         133            0.0     Semiurban            0  \n",
       "\n",
       "[614 rows x 11 columns]"
      ]
     },
     "execution_count": 60,
     "metadata": {},
     "output_type": "execute_result"
    }
   ],
   "source": [
    "credit_df = credit_df.fillna(\"0\")\n",
    "# credit_df = credit_df.replace({\"NaN\":credit-df.median()})\n",
    "credit_df"
   ]
  },
  {
   "cell_type": "markdown",
   "id": "12b2bfe2165bc918",
   "metadata": {},
   "source": [
    "### Paso 9\n",
    "\n",
    "A continuación, analizaremos la distribución de nuestras variables"
   ]
  },
  {
   "cell_type": "code",
   "execution_count": 61,
   "id": "db356db28cb473fb",
   "metadata": {
    "ExecuteTime": {
     "end_time": "2025-06-17T16:33:52.912853Z",
     "start_time": "2025-06-17T16:33:52.855716Z"
    }
   },
   "outputs": [
    {
     "data": {
      "text/html": [
       "<div>\n",
       "<style scoped>\n",
       "    .dataframe tbody tr th:only-of-type {\n",
       "        vertical-align: middle;\n",
       "    }\n",
       "\n",
       "    .dataframe tbody tr th {\n",
       "        vertical-align: top;\n",
       "    }\n",
       "\n",
       "    .dataframe thead th {\n",
       "        text-align: right;\n",
       "    }\n",
       "</style>\n",
       "<table border=\"1\" class=\"dataframe\">\n",
       "  <thead>\n",
       "    <tr style=\"text-align: right;\">\n",
       "      <th></th>\n",
       "      <th>count</th>\n",
       "      <th>mean</th>\n",
       "      <th>std</th>\n",
       "      <th>min</th>\n",
       "      <th>25%</th>\n",
       "      <th>50%</th>\n",
       "      <th>75%</th>\n",
       "      <th>max</th>\n",
       "    </tr>\n",
       "  </thead>\n",
       "  <tbody>\n",
       "    <tr>\n",
       "      <th>ApplicantIncome</th>\n",
       "      <td>614.0</td>\n",
       "      <td>5403.459283</td>\n",
       "      <td>6109.041673</td>\n",
       "      <td>150.0</td>\n",
       "      <td>2877.5</td>\n",
       "      <td>3812.5</td>\n",
       "      <td>5795.00</td>\n",
       "      <td>81000.0</td>\n",
       "    </tr>\n",
       "    <tr>\n",
       "      <th>CoapplicantIncome</th>\n",
       "      <td>614.0</td>\n",
       "      <td>1621.245798</td>\n",
       "      <td>2926.248369</td>\n",
       "      <td>0.0</td>\n",
       "      <td>0.0</td>\n",
       "      <td>1188.5</td>\n",
       "      <td>2297.25</td>\n",
       "      <td>41667.0</td>\n",
       "    </tr>\n",
       "    <tr>\n",
       "      <th>LoanAmount</th>\n",
       "      <td>614.0</td>\n",
       "      <td>141.166124</td>\n",
       "      <td>88.340630</td>\n",
       "      <td>0.0</td>\n",
       "      <td>98.0</td>\n",
       "      <td>125.0</td>\n",
       "      <td>164.75</td>\n",
       "      <td>700.0</td>\n",
       "    </tr>\n",
       "    <tr>\n",
       "      <th>Loan_Status</th>\n",
       "      <td>614.0</td>\n",
       "      <td>0.687296</td>\n",
       "      <td>0.463973</td>\n",
       "      <td>0.0</td>\n",
       "      <td>0.0</td>\n",
       "      <td>1.0</td>\n",
       "      <td>1.00</td>\n",
       "      <td>1.0</td>\n",
       "    </tr>\n",
       "  </tbody>\n",
       "</table>\n",
       "</div>"
      ],
      "text/plain": [
       "                   count         mean          std    min     25%     50%  \\\n",
       "ApplicantIncome    614.0  5403.459283  6109.041673  150.0  2877.5  3812.5   \n",
       "CoapplicantIncome  614.0  1621.245798  2926.248369    0.0     0.0  1188.5   \n",
       "LoanAmount         614.0   141.166124    88.340630    0.0    98.0   125.0   \n",
       "Loan_Status        614.0     0.687296     0.463973    0.0     0.0     1.0   \n",
       "\n",
       "                       75%      max  \n",
       "ApplicantIncome    5795.00  81000.0  \n",
       "CoapplicantIncome  2297.25  41667.0  \n",
       "LoanAmount          164.75    700.0  \n",
       "Loan_Status           1.00      1.0  "
      ]
     },
     "execution_count": 61,
     "metadata": {},
     "output_type": "execute_result"
    }
   ],
   "source": [
    "credit_df.describe().transpose()"
   ]
  },
  {
   "cell_type": "markdown",
   "id": "dc05ee0486232167",
   "metadata": {},
   "source": [
    "### Paso 10\n",
    "\n",
    "Analicemos la columna de destino, \"Estado del Préstamo\" (Loan_Status), para comprender cómo se distribuyen los datos entre los distintos valores."
   ]
  },
  {
   "cell_type": "code",
   "execution_count": 62,
   "id": "4d91b118",
   "metadata": {},
   "outputs": [
    {
     "name": "stdout",
     "output_type": "stream",
     "text": [
      "<class 'pandas.core.frame.DataFrame'>\n",
      "RangeIndex: 614 entries, 0 to 613\n",
      "Data columns (total 11 columns):\n",
      " #   Column             Non-Null Count  Dtype  \n",
      "---  ------             --------------  -----  \n",
      " 0   Gender             614 non-null    object \n",
      " 1   Married            614 non-null    object \n",
      " 2   Dependents         614 non-null    object \n",
      " 3   Education          614 non-null    object \n",
      " 4   Self_Employed      614 non-null    object \n",
      " 5   ApplicantIncome    614 non-null    int64  \n",
      " 6   CoapplicantIncome  614 non-null    float64\n",
      " 7   LoanAmount         614 non-null    int64  \n",
      " 8   Credit_History     614 non-null    object \n",
      " 9   Property_Area      614 non-null    object \n",
      " 10  Loan_Status        614 non-null    int64  \n",
      "dtypes: float64(1), int64(3), object(7)\n",
      "memory usage: 52.9+ KB\n"
     ]
    }
   ],
   "source": [
    "credit_df.info()"
   ]
  },
  {
   "cell_type": "code",
   "execution_count": 63,
   "id": "96e66941b6141eab",
   "metadata": {
    "ExecuteTime": {
     "end_time": "2025-06-17T16:33:53.914539Z",
     "start_time": "2025-06-17T16:33:53.115579Z"
    }
   },
   "outputs": [
    {
     "data": {
      "text/html": [
       "<div>\n",
       "<style scoped>\n",
       "    .dataframe tbody tr th:only-of-type {\n",
       "        vertical-align: middle;\n",
       "    }\n",
       "\n",
       "    .dataframe tbody tr th {\n",
       "        vertical-align: top;\n",
       "    }\n",
       "\n",
       "    .dataframe thead th {\n",
       "        text-align: right;\n",
       "    }\n",
       "</style>\n",
       "<table border=\"1\" class=\"dataframe\">\n",
       "  <thead>\n",
       "    <tr style=\"text-align: right;\">\n",
       "      <th></th>\n",
       "      <th>ApplicantIncome</th>\n",
       "      <th>CoapplicantIncome</th>\n",
       "      <th>LoanAmount</th>\n",
       "    </tr>\n",
       "    <tr>\n",
       "      <th>Loan_Status</th>\n",
       "      <th></th>\n",
       "      <th></th>\n",
       "      <th></th>\n",
       "    </tr>\n",
       "  </thead>\n",
       "  <tbody>\n",
       "    <tr>\n",
       "      <th>0</th>\n",
       "      <td>5446.078125</td>\n",
       "      <td>1877.807292</td>\n",
       "      <td>142.557292</td>\n",
       "    </tr>\n",
       "    <tr>\n",
       "      <th>1</th>\n",
       "      <td>5384.068720</td>\n",
       "      <td>1504.516398</td>\n",
       "      <td>140.533175</td>\n",
       "    </tr>\n",
       "  </tbody>\n",
       "</table>\n",
       "</div>"
      ],
      "text/plain": [
       "             ApplicantIncome  CoapplicantIncome  LoanAmount\n",
       "Loan_Status                                                \n",
       "0                5446.078125        1877.807292  142.557292\n",
       "1                5384.068720        1504.516398  140.533175"
      ]
     },
     "execution_count": 63,
     "metadata": {},
     "output_type": "execute_result"
    }
   ],
   "source": [
    "credit_df.groupby(\"Loan_Status\").mean(numeric_only=True)"
   ]
  },
  {
   "cell_type": "markdown",
   "id": "8fc9745b27edd531",
   "metadata": {},
   "source": [
    "### Paso 11\n",
    "\n",
    "Ahora convertiremos las variables X e Y en una variable categórica."
   ]
  },
  {
   "cell_type": "code",
   "execution_count": 64,
   "id": "46d13c6268345e0f",
   "metadata": {
    "ExecuteTime": {
     "end_time": "2025-06-17T16:34:40.865426Z",
     "start_time": "2025-06-17T16:34:40.744111Z"
    }
   },
   "outputs": [],
   "source": [
    "#Convert X & Y variable to a categorical variable as relevant\n",
    "credit_df['Loan_Status'] = credit_df['Loan_Status'].astype('category')\n",
    "credit_df['Credit_History'] = credit_df['Credit_History'].astype('category')"
   ]
  },
  {
   "cell_type": "markdown",
   "id": "794f9898ff6612ae",
   "metadata": {},
   "source": [
    "### Paso 12\n",
    "\n",
    "Verifica los tipos de datos presentes en los datos actuales, como se muestra en el resultado"
   ]
  },
  {
   "cell_type": "code",
   "execution_count": 65,
   "id": "b601c3aa06629f5f",
   "metadata": {
    "ExecuteTime": {
     "end_time": "2025-06-17T16:35:18.864998Z",
     "start_time": "2025-06-17T16:35:18.614365Z"
    }
   },
   "outputs": [
    {
     "name": "stdout",
     "output_type": "stream",
     "text": [
      "<class 'pandas.core.frame.DataFrame'>\n",
      "RangeIndex: 614 entries, 0 to 613\n",
      "Data columns (total 11 columns):\n",
      " #   Column             Non-Null Count  Dtype   \n",
      "---  ------             --------------  -----   \n",
      " 0   Gender             614 non-null    object  \n",
      " 1   Married            614 non-null    object  \n",
      " 2   Dependents         614 non-null    object  \n",
      " 3   Education          614 non-null    object  \n",
      " 4   Self_Employed      614 non-null    object  \n",
      " 5   ApplicantIncome    614 non-null    int64   \n",
      " 6   CoapplicantIncome  614 non-null    float64 \n",
      " 7   LoanAmount         614 non-null    int64   \n",
      " 8   Credit_History     614 non-null    category\n",
      " 9   Property_Area      614 non-null    object  \n",
      " 10  Loan_Status        614 non-null    category\n",
      "dtypes: category(2), float64(1), int64(2), object(6)\n",
      "memory usage: 44.8+ KB\n"
     ]
    }
   ],
   "source": [
    "credit_df.info()"
   ]
  },
  {
   "cell_type": "markdown",
   "id": "c6260f27dd7caec9",
   "metadata": {},
   "source": [
    "### Paso 13\n",
    "\n",
    "Verifica el equilibrio de los datos. Obtendremos el siguiente resultado"
   ]
  },
  {
   "cell_type": "code",
   "execution_count": 66,
   "id": "646855c7b01d982a",
   "metadata": {
    "ExecuteTime": {
     "end_time": "2025-06-17T16:36:10.659018Z",
     "start_time": "2025-06-17T16:36:10.599613Z"
    }
   },
   "outputs": [
    {
     "name": "stdout",
     "output_type": "stream",
     "text": [
      "Loan_Status\n",
      "1    0.687296\n",
      "0    0.312704\n",
      "Name: proportion, dtype: float64\n"
     ]
    }
   ],
   "source": [
    "#Calculate baseline proportion - ratio of Yes to No to identify data imbalance\n",
    "prop_Y = credit_df['Loan_Status'].value_counts(normalize=True)\n",
    "print(prop_Y)"
   ]
  },
  {
   "cell_type": "markdown",
   "id": "dfd98979266fc69b",
   "metadata": {},
   "source": [
    "Parece haber un ligero desequilibrio en el conjunto de datos, ya que una clase representa el 31.28 % y la otra el 68.72 %.\n",
    "\n",
    "**Nota:** Si bien el conjunto de datos no presenta un desequilibrio importante, también se suele examinar cómo gestionar el desequilibrio de datos.\n",
    "\n",
    "### Paso 14\n",
    "\n",
    "Ahora definiremos las variables X e Y"
   ]
  },
  {
   "cell_type": "code",
   "execution_count": 67,
   "id": "bd3833297978f411",
   "metadata": {
    "ExecuteTime": {
     "end_time": "2025-06-17T16:37:18.791482Z",
     "start_time": "2025-06-17T16:37:18.673324Z"
    }
   },
   "outputs": [],
   "source": [
    "## Define X and Y variables\n",
    "X = credit_df.drop('Loan_Status', axis=1)\n",
    "Y = credit_df[['Loan_Status']]"
   ]
  },
  {
   "cell_type": "markdown",
   "id": "b04e892b911ad0d",
   "metadata": {},
   "source": [
    "### Paso 15\n",
    "\n",
    "Utilizando la codificación one-hot, convertiremos las variables categóricas en numéricas"
   ]
  },
  {
   "cell_type": "code",
   "execution_count": 68,
   "id": "3d06d7d88829d2e6",
   "metadata": {
    "ExecuteTime": {
     "end_time": "2025-06-17T16:38:05.453296Z",
     "start_time": "2025-06-17T16:38:05.364163Z"
    }
   },
   "outputs": [],
   "source": [
    "#Convert categorical variables to dummy variables\n",
    "X = pd.get_dummies(X, drop_first=True)"
   ]
  },
  {
   "cell_type": "markdown",
   "id": "9b227d83521d8034",
   "metadata": {},
   "source": [
    "### Paso 16\n",
    "\n",
    "Dividamos los conjuntos en conjuntos de entrenamiento y de prueba. Dividimos en una proporción de 70:30"
   ]
  },
  {
   "cell_type": "code",
   "execution_count": 69,
   "id": "8b4058d4371f6ebf",
   "metadata": {
    "ExecuteTime": {
     "end_time": "2025-06-17T16:38:53.172790Z",
     "start_time": "2025-06-17T16:38:53.008293Z"
    }
   },
   "outputs": [],
   "source": [
    "##Split into training and test set\n",
    "from sklearn.model_selection import train_test_split\n",
    "X_train, X_test, y_train, y_test = train_test_split(X, Y, test_size=0.30)"
   ]
  },
  {
   "cell_type": "markdown",
   "id": "f870e5aaa35e25de",
   "metadata": {},
   "source": [
    "### Paso 17\n",
    "\n",
    "Construyamos el modelo de regresión logística"
   ]
  },
  {
   "cell_type": "code",
   "execution_count": 70,
   "id": "417cfb17",
   "metadata": {},
   "outputs": [
    {
     "name": "stdout",
     "output_type": "stream",
     "text": [
      "ApplicantIncome              int64\n",
      "CoapplicantIncome          float64\n",
      "LoanAmount                   int64\n",
      "Gender_Female                 bool\n",
      "Gender_Male                   bool\n",
      "Married_No                    bool\n",
      "Married_Yes                   bool\n",
      "Dependents_1                  bool\n",
      "Dependents_2                  bool\n",
      "Dependents_3+                 bool\n",
      "Education_Not Graduate        bool\n",
      "Self_Employed_No              bool\n",
      "Self_Employed_Yes             bool\n",
      "Credit_History_1.0            bool\n",
      "Credit_History_0              bool\n",
      "Property_Area_Semiurban       bool\n",
      "Property_Area_Urban           bool\n",
      "dtype: object\n",
      "Loan_Status    category\n",
      "dtype: object\n"
     ]
    }
   ],
   "source": [
    "print(X_train.dtypes)\n",
    "print(y_train.dtypes)\n"
   ]
  },
  {
   "cell_type": "code",
   "execution_count": 71,
   "id": "93d2bf2f90950479",
   "metadata": {
    "ExecuteTime": {
     "end_time": "2025-06-17T16:45:10.231335Z",
     "start_time": "2025-06-17T16:45:09.031195Z"
    }
   },
   "outputs": [
    {
     "ename": "ValueError",
     "evalue": "Pandas data cast to numpy dtype of object. Check input data with np.asarray(data).",
     "output_type": "error",
     "traceback": [
      "\u001b[31m---------------------------------------------------------------------------\u001b[39m",
      "\u001b[31mValueError\u001b[39m                                Traceback (most recent call last)",
      "\u001b[36mCell\u001b[39m\u001b[36m \u001b[39m\u001b[32mIn[71]\u001b[39m\u001b[32m, line 3\u001b[39m\n\u001b[32m      1\u001b[39m \u001b[38;5;66;03m#Build the logistic regression model\u001b[39;00m\n\u001b[32m      2\u001b[39m \u001b[38;5;28;01mimport\u001b[39;00m\u001b[38;5;250m \u001b[39m\u001b[34;01mstatsmodels\u001b[39;00m\u001b[34;01m.\u001b[39;00m\u001b[34;01mapi\u001b[39;00m\u001b[38;5;250m \u001b[39m\u001b[38;5;28;01mas\u001b[39;00m\u001b[38;5;250m \u001b[39m\u001b[34;01msm\u001b[39;00m\n\u001b[32m----> \u001b[39m\u001b[32m3\u001b[39m logit = sm.Logit(y_train, sm.add_constant(X_train))\n\u001b[32m      4\u001b[39m lg = logit.fit()\n",
      "\u001b[36mFile \u001b[39m\u001b[32mc:\\Users\\vicma\\anaconda3\\envs\\ai_security\\Lib\\site-packages\\statsmodels\\discrete\\discrete_model.py:475\u001b[39m, in \u001b[36mBinaryModel.__init__\u001b[39m\u001b[34m(self, endog, exog, offset, check_rank, **kwargs)\u001b[39m\n\u001b[32m    472\u001b[39m \u001b[38;5;28;01mdef\u001b[39;00m\u001b[38;5;250m \u001b[39m\u001b[34m__init__\u001b[39m(\u001b[38;5;28mself\u001b[39m, endog, exog, offset=\u001b[38;5;28;01mNone\u001b[39;00m, check_rank=\u001b[38;5;28;01mTrue\u001b[39;00m, **kwargs):\n\u001b[32m    473\u001b[39m     \u001b[38;5;66;03m# unconditional check, requires no extra kwargs added by subclasses\u001b[39;00m\n\u001b[32m    474\u001b[39m     \u001b[38;5;28mself\u001b[39m._check_kwargs(kwargs)\n\u001b[32m--> \u001b[39m\u001b[32m475\u001b[39m     \u001b[38;5;28msuper\u001b[39m().\u001b[34m__init__\u001b[39m(endog, exog, offset=offset, check_rank=check_rank,\n\u001b[32m    476\u001b[39m                      **kwargs)\n\u001b[32m    477\u001b[39m     \u001b[38;5;28;01mif\u001b[39;00m \u001b[38;5;129;01mnot\u001b[39;00m \u001b[38;5;28missubclass\u001b[39m(\u001b[38;5;28mself\u001b[39m.\u001b[34m__class__\u001b[39m, MultinomialModel):\n\u001b[32m    478\u001b[39m         \u001b[38;5;28;01mif\u001b[39;00m \u001b[38;5;129;01mnot\u001b[39;00m np.all((\u001b[38;5;28mself\u001b[39m.endog >= \u001b[32m0\u001b[39m) & (\u001b[38;5;28mself\u001b[39m.endog <= \u001b[32m1\u001b[39m)):\n",
      "\u001b[36mFile \u001b[39m\u001b[32mc:\\Users\\vicma\\anaconda3\\envs\\ai_security\\Lib\\site-packages\\statsmodels\\discrete\\discrete_model.py:185\u001b[39m, in \u001b[36mDiscreteModel.__init__\u001b[39m\u001b[34m(self, endog, exog, check_rank, **kwargs)\u001b[39m\n\u001b[32m    183\u001b[39m \u001b[38;5;28;01mdef\u001b[39;00m\u001b[38;5;250m \u001b[39m\u001b[34m__init__\u001b[39m(\u001b[38;5;28mself\u001b[39m, endog, exog, check_rank=\u001b[38;5;28;01mTrue\u001b[39;00m, **kwargs):\n\u001b[32m    184\u001b[39m     \u001b[38;5;28mself\u001b[39m._check_rank = check_rank\n\u001b[32m--> \u001b[39m\u001b[32m185\u001b[39m     \u001b[38;5;28msuper\u001b[39m().\u001b[34m__init__\u001b[39m(endog, exog, **kwargs)\n\u001b[32m    186\u001b[39m     \u001b[38;5;28mself\u001b[39m.raise_on_perfect_prediction = \u001b[38;5;28;01mFalse\u001b[39;00m  \u001b[38;5;66;03m# keep for backwards compat\u001b[39;00m\n\u001b[32m    187\u001b[39m     \u001b[38;5;28mself\u001b[39m.k_extra = \u001b[32m0\u001b[39m\n",
      "\u001b[36mFile \u001b[39m\u001b[32mc:\\Users\\vicma\\anaconda3\\envs\\ai_security\\Lib\\site-packages\\statsmodels\\base\\model.py:270\u001b[39m, in \u001b[36mLikelihoodModel.__init__\u001b[39m\u001b[34m(self, endog, exog, **kwargs)\u001b[39m\n\u001b[32m    269\u001b[39m \u001b[38;5;28;01mdef\u001b[39;00m\u001b[38;5;250m \u001b[39m\u001b[34m__init__\u001b[39m(\u001b[38;5;28mself\u001b[39m, endog, exog=\u001b[38;5;28;01mNone\u001b[39;00m, **kwargs):\n\u001b[32m--> \u001b[39m\u001b[32m270\u001b[39m     \u001b[38;5;28msuper\u001b[39m().\u001b[34m__init__\u001b[39m(endog, exog, **kwargs)\n\u001b[32m    271\u001b[39m     \u001b[38;5;28mself\u001b[39m.initialize()\n",
      "\u001b[36mFile \u001b[39m\u001b[32mc:\\Users\\vicma\\anaconda3\\envs\\ai_security\\Lib\\site-packages\\statsmodels\\base\\model.py:95\u001b[39m, in \u001b[36mModel.__init__\u001b[39m\u001b[34m(self, endog, exog, **kwargs)\u001b[39m\n\u001b[32m     93\u001b[39m missing = kwargs.pop(\u001b[33m'\u001b[39m\u001b[33mmissing\u001b[39m\u001b[33m'\u001b[39m, \u001b[33m'\u001b[39m\u001b[33mnone\u001b[39m\u001b[33m'\u001b[39m)\n\u001b[32m     94\u001b[39m hasconst = kwargs.pop(\u001b[33m'\u001b[39m\u001b[33mhasconst\u001b[39m\u001b[33m'\u001b[39m, \u001b[38;5;28;01mNone\u001b[39;00m)\n\u001b[32m---> \u001b[39m\u001b[32m95\u001b[39m \u001b[38;5;28mself\u001b[39m.data = \u001b[38;5;28mself\u001b[39m._handle_data(endog, exog, missing, hasconst,\n\u001b[32m     96\u001b[39m                               **kwargs)\n\u001b[32m     97\u001b[39m \u001b[38;5;28mself\u001b[39m.k_constant = \u001b[38;5;28mself\u001b[39m.data.k_constant\n\u001b[32m     98\u001b[39m \u001b[38;5;28mself\u001b[39m.exog = \u001b[38;5;28mself\u001b[39m.data.exog\n",
      "\u001b[36mFile \u001b[39m\u001b[32mc:\\Users\\vicma\\anaconda3\\envs\\ai_security\\Lib\\site-packages\\statsmodels\\base\\model.py:135\u001b[39m, in \u001b[36mModel._handle_data\u001b[39m\u001b[34m(self, endog, exog, missing, hasconst, **kwargs)\u001b[39m\n\u001b[32m    134\u001b[39m \u001b[38;5;28;01mdef\u001b[39;00m\u001b[38;5;250m \u001b[39m\u001b[34m_handle_data\u001b[39m(\u001b[38;5;28mself\u001b[39m, endog, exog, missing, hasconst, **kwargs):\n\u001b[32m--> \u001b[39m\u001b[32m135\u001b[39m     data = handle_data(endog, exog, missing, hasconst, **kwargs)\n\u001b[32m    136\u001b[39m     \u001b[38;5;66;03m# kwargs arrays could have changed, easier to just attach here\u001b[39;00m\n\u001b[32m    137\u001b[39m     \u001b[38;5;28;01mfor\u001b[39;00m key \u001b[38;5;129;01min\u001b[39;00m kwargs:\n",
      "\u001b[36mFile \u001b[39m\u001b[32mc:\\Users\\vicma\\anaconda3\\envs\\ai_security\\Lib\\site-packages\\statsmodels\\base\\data.py:675\u001b[39m, in \u001b[36mhandle_data\u001b[39m\u001b[34m(endog, exog, missing, hasconst, **kwargs)\u001b[39m\n\u001b[32m    672\u001b[39m     exog = np.asarray(exog)\n\u001b[32m    674\u001b[39m klass = handle_data_class_factory(endog, exog)\n\u001b[32m--> \u001b[39m\u001b[32m675\u001b[39m \u001b[38;5;28;01mreturn\u001b[39;00m klass(endog, exog=exog, missing=missing, hasconst=hasconst,\n\u001b[32m    676\u001b[39m              **kwargs)\n",
      "\u001b[36mFile \u001b[39m\u001b[32mc:\\Users\\vicma\\anaconda3\\envs\\ai_security\\Lib\\site-packages\\statsmodels\\base\\data.py:84\u001b[39m, in \u001b[36mModelData.__init__\u001b[39m\u001b[34m(self, endog, exog, missing, hasconst, **kwargs)\u001b[39m\n\u001b[32m     82\u001b[39m     \u001b[38;5;28mself\u001b[39m.orig_endog = endog\n\u001b[32m     83\u001b[39m     \u001b[38;5;28mself\u001b[39m.orig_exog = exog\n\u001b[32m---> \u001b[39m\u001b[32m84\u001b[39m     \u001b[38;5;28mself\u001b[39m.endog, \u001b[38;5;28mself\u001b[39m.exog = \u001b[38;5;28mself\u001b[39m._convert_endog_exog(endog, exog)\n\u001b[32m     86\u001b[39m \u001b[38;5;28mself\u001b[39m.const_idx = \u001b[38;5;28;01mNone\u001b[39;00m\n\u001b[32m     87\u001b[39m \u001b[38;5;28mself\u001b[39m.k_constant = \u001b[32m0\u001b[39m\n",
      "\u001b[36mFile \u001b[39m\u001b[32mc:\\Users\\vicma\\anaconda3\\envs\\ai_security\\Lib\\site-packages\\statsmodels\\base\\data.py:509\u001b[39m, in \u001b[36mPandasData._convert_endog_exog\u001b[39m\u001b[34m(self, endog, exog)\u001b[39m\n\u001b[32m    507\u001b[39m exog = exog \u001b[38;5;28;01mif\u001b[39;00m exog \u001b[38;5;129;01mis\u001b[39;00m \u001b[38;5;28;01mNone\u001b[39;00m \u001b[38;5;28;01melse\u001b[39;00m np.asarray(exog)\n\u001b[32m    508\u001b[39m \u001b[38;5;28;01mif\u001b[39;00m endog.dtype == \u001b[38;5;28mobject\u001b[39m \u001b[38;5;129;01mor\u001b[39;00m exog \u001b[38;5;129;01mis\u001b[39;00m \u001b[38;5;129;01mnot\u001b[39;00m \u001b[38;5;28;01mNone\u001b[39;00m \u001b[38;5;129;01mand\u001b[39;00m exog.dtype == \u001b[38;5;28mobject\u001b[39m:\n\u001b[32m--> \u001b[39m\u001b[32m509\u001b[39m     \u001b[38;5;28;01mraise\u001b[39;00m \u001b[38;5;167;01mValueError\u001b[39;00m(\u001b[33m\"\u001b[39m\u001b[33mPandas data cast to numpy dtype of object. \u001b[39m\u001b[33m\"\u001b[39m\n\u001b[32m    510\u001b[39m                      \u001b[33m\"\u001b[39m\u001b[33mCheck input data with np.asarray(data).\u001b[39m\u001b[33m\"\u001b[39m)\n\u001b[32m    511\u001b[39m \u001b[38;5;28;01mreturn\u001b[39;00m \u001b[38;5;28msuper\u001b[39m()._convert_endog_exog(endog, exog)\n",
      "\u001b[31mValueError\u001b[39m: Pandas data cast to numpy dtype of object. Check input data with np.asarray(data)."
     ]
    }
   ],
   "source": [
    "#Build the logistic regression model\n",
    "import statsmodels.api as sm\n",
    "logit = sm.Logit(y_train, sm.add_constant(X_train))\n",
    "lg = logit.fit()"
   ]
  },
  {
   "cell_type": "markdown",
   "id": "1411124bc6c5653d",
   "metadata": {},
   "source": [
    "### Paso 18\n",
    "\n",
    "Revisaremos el resumen del modelo. Los resultados son los siguientes"
   ]
  },
  {
   "cell_type": "code",
   "execution_count": null,
   "id": "901900e2ee6cdd4d",
   "metadata": {},
   "outputs": [
    {
     "ename": "NameError",
     "evalue": "name 'lg' is not defined",
     "output_type": "error",
     "traceback": [
      "\u001b[31m---------------------------------------------------------------------------\u001b[39m",
      "\u001b[31mNameError\u001b[39m                                 Traceback (most recent call last)",
      "\u001b[36mCell\u001b[39m\u001b[36m \u001b[39m\u001b[32mIn[42]\u001b[39m\u001b[32m, line 5\u001b[39m\n\u001b[32m      3\u001b[39m \u001b[38;5;28;01mfrom\u001b[39;00m\u001b[38;5;250m \u001b[39m\u001b[34;01mscipy\u001b[39;00m\u001b[38;5;250m \u001b[39m\u001b[38;5;28;01mimport\u001b[39;00m stats\n\u001b[32m      4\u001b[39m stats.chisqprob = \u001b[38;5;28;01mlambda\u001b[39;00m chisq, df: stats.chi2.sf(chisq, df)\n\u001b[32m----> \u001b[39m\u001b[32m5\u001b[39m lg.summary()\n",
      "\u001b[31mNameError\u001b[39m: name 'lg' is not defined"
     ]
    }
   ],
   "source": [
    "# Summary of logistic regression\n",
    "\n",
    "from scipy import stats\n",
    "stats.chisqprob = lambda chisq, df: stats.chi2.sf(chisq, df)\n",
    "lg.summary()"
   ]
  },
  {
   "cell_type": "code",
   "execution_count": null,
   "id": "0823477a",
   "metadata": {},
   "outputs": [],
   "source": []
  }
 ],
 "metadata": {
  "kernelspec": {
   "display_name": "ai_security",
   "language": "python",
   "name": "python3"
  },
  "language_info": {
   "codemirror_mode": {
    "name": "ipython",
    "version": 3
   },
   "file_extension": ".py",
   "mimetype": "text/x-python",
   "name": "python",
   "nbconvert_exporter": "python",
   "pygments_lexer": "ipython3",
   "version": "3.12.11"
  }
 },
 "nbformat": 4,
 "nbformat_minor": 5
}
